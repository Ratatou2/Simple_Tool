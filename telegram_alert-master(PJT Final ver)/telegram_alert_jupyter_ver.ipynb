{
 "cells": [
  {
   "cell_type": "code",
   "execution_count": 1,
   "id": "b2d25f3a",
   "metadata": {},
   "outputs": [],
   "source": [
    "message_content = \"주피터용 텔레그램 알림 테스트 (feat. 성욱이네 GPU 서버)\""
   ]
  },
  {
   "cell_type": "code",
   "execution_count": 2,
   "id": "4b3fc2eb",
   "metadata": {},
   "outputs": [],
   "source": [
    "import telepot\n",
    "import sys\n",
    "\n",
    "# 텔레그램 봇의 API Token을 여기에 입력\n",
    "TELEGRAM_BOT_TOKEN = '6871924649:AAF6v14p8azIcsJPNpp3-52LKpCYvQWuMDQ'\n",
    "\n",
    "# 받는 사람의 Chat ID를 여기에 입력\n",
    "CHAT_ID = '-1002100039901'\n",
    "\n",
    "def send_telegram_message(message):\n",
    "    bot = telepot.Bot(TELEGRAM_BOT_TOKEN)\n",
    "    bot.sendMessage(CHAT_ID, message)\n",
    "\n",
    "if len(sys.argv) <= 1:\n",
    "    print(\"# need more parameter\")\n",
    "    sys.exit(1)\n",
    "\n",
    "# 메시지 전송\n",
    "send_telegram_message(message_content)"
   ]
  },
  {
   "cell_type": "code",
   "execution_count": null,
   "id": "e28c0efb",
   "metadata": {},
   "outputs": [],
   "source": []
  }
 ],
 "metadata": {
  "kernelspec": {
   "display_name": "Python 3 (ipykernel)",
   "language": "python",
   "name": "python3"
  },
  "language_info": {
   "codemirror_mode": {
    "name": "ipython",
    "version": 3
   },
   "file_extension": ".py",
   "mimetype": "text/x-python",
   "name": "python",
   "nbconvert_exporter": "python",
   "pygments_lexer": "ipython3",
   "version": "3.9.7"
  }
 },
 "nbformat": 4,
 "nbformat_minor": 5
}
